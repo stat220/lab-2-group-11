{
  "nbformat": 4,
  "nbformat_minor": 0,
  "metadata": {
    "colab": {
      "provenance": []
    },
    "kernelspec": {
      "name": "python3",
      "display_name": "Python 3"
    },
    "language_info": {
      "name": "python"
    }
  },
  "cells": [
    {
      "cell_type": "code",
      "execution_count": 1,
      "metadata": {
        "id": "a_1caVzcYnI_"
      },
      "outputs": [],
      "source": [
        "import itertools\n",
        "import pandas as pd\n",
        "import numpy as np\n",
        "import random"
      ]
    },
    {
      "cell_type": "markdown",
      "source": [
        "**Part A: Calculate the probability of rolling m dice, each with n sides, and having the sum of the dice be greater than x. This calculation should only be implemented for m = 1 through 4 and n is at most 20.**\n"
      ],
      "metadata": {
        "id": "KWbiqfYyaPRP"
      }
    },
    {
      "cell_type": "code",
      "source": [
        "# This calculation should only be implemented for m = 1 through 4 and n is at most 20.\n",
        "#     m dice,n sides, sum > x, iff m = 1 thru 4, n <= 20\n",
        "def roll(m,n,x):\n",
        "  #test for invalid edge cases\n",
        "  if n > 20 or m > 4 or m < 1:\n",
        "    return \"Invalid input\"\n",
        "\n",
        "  #rolls is all possible roll combination\n",
        "  rolls = list(itertools.product(range(1, n+1), repeat=m))\n",
        "\n",
        "  #sum is all rolls added together\n",
        "  sums = np.array([sum(roll) for roll in rolls])\n",
        "\n",
        "  #if value >= x\n",
        "  return np.mean(sums >= x)\n"
      ],
      "metadata": {
        "id": "fFoYUW_bco0v"
      },
      "execution_count": 18,
      "outputs": []
    },
    {
      "cell_type": "markdown",
      "source": [
        "**Part B: Determining the probability of rolling m dice, each with n sides, and having at least one die show a value greater than or equal to x.**"
      ],
      "metadata": {
        "id": "-cbtc2qKavtI"
      }
    },
    {
      "cell_type": "code",
      "source": [
        "def atLeastOneGreaterThanX(sides, dice, x):\n",
        "  \"\"\"\n",
        "  Determines the chances of rolling m dice, each with n sides, and having at least one die show a value greater than or equal to x.\n",
        "  Arguments:\n",
        "    sides: The number of sides per die.\n",
        "    dice: amount of dice roled.\n",
        "    x: target.\n",
        "  Returns probability of at least one die showing a value greater than or equal to x.\n",
        "  \"\"\"\n",
        "  #test for invalid input\n",
        "  if sides < 1 or dice < 1 or x < 1 or x > sides:\n",
        "    return \"Invalid input\"\n",
        "\n",
        "  #formula for probability of how many sides on how many dice, getting x or greater\n",
        "  return (1-((x-1)/sides)**dice)\n",
        "\n"
      ],
      "metadata": {
        "id": "ojMAIh7ca5DG"
      },
      "execution_count": 19,
      "outputs": []
    },
    {
      "cell_type": "markdown",
      "source": [
        "**An example showcasing the code used in the situation delineated below.**"
      ],
      "metadata": {
        "id": "h0N9eSAOba0p"
      }
    },
    {
      "cell_type": "code",
      "source": [
        "_1d20 = atLeastOneGreaterThanX(20,1,17)\n",
        "_3d4_sum10 = roll(3,4,10)\n",
        "_4d6 = atLeastOneGreaterThanX(6,4, 6)\n",
        "print(f\"Probability of rolling 1d20 and getting a result of 17 or more: {_1d20}\\nProbability of rolling 3d4 and getting a sum of 10 or more: {_3d4_sum10}\\nProbability of rolling 4d6 and having at least one dice show a 6: {_4d6}\")\n",
        "\n",
        "highest_string = '1d20'\n",
        "highest = _1d20\n",
        "if _3d4_sum10 > highest:\n",
        "  highest = _3d4_sum10\n",
        "  highest_string = '3d4'\n",
        "if _4d6 > highest:\n",
        "  highest = _4d6\n",
        "  highest_string = '4d6'\n",
        "\n",
        "print(f\"\\nThe highest probability is: {highest} which is {highest_string}\")"
      ],
      "metadata": {
        "id": "vNI2qW74bd_5",
        "colab": {
          "base_uri": "https://localhost:8080/"
        },
        "outputId": "16952c35-4855-4652-935a-9f9c9f70bcfd"
      },
      "execution_count": 31,
      "outputs": [
        {
          "output_type": "stream",
          "name": "stdout",
          "text": [
            "Probability of rolling 1d20 and getting a result of 17 or more: 0.19999999999999996\n",
            "Probability of rolling 3d4 and getting a sum of 10 or more: 0.15625\n",
            "Probability of rolling 4d6 and having at least one dice show a 6: 0.5177469135802468\n",
            "\n",
            "The highest probability is: 0.5177469135802468 which is 4d6\n"
          ]
        }
      ]
    },
    {
      "cell_type": "code",
      "source": [],
      "metadata": {
        "id": "TDYjLYGDfo6X"
      },
      "execution_count": 4,
      "outputs": []
    }
  ]
}